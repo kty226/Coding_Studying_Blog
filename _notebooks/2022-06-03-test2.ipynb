{
  "cells": [
    {
      "cell_type": "markdown",
      "id": "5bdaa9f2",
      "metadata": {
        "id": "5bdaa9f2"
      },
      "source": [
        "# 정렬"
      ]
    },
    {
      "cell_type": "markdown",
      "id": "3aafa636",
      "metadata": {
        "id": "3aafa636"
      },
      "source": [
        "- 정렬 알고리즘은 커"
      ]
    },
    {
      "cell_type": "markdown",
      "id": "bdeed460",
      "metadata": {
        "id": "bdeed460"
      },
      "source": [
        "버블정렬($n^2$), 삽입정렬($n^2$), 선택정렬($n^2$)"
      ]
    },
    {
      "cell_type": "markdown",
      "id": "f8cd81c8",
      "metadata": {
        "id": "f8cd81c8"
      },
      "source": [
        "퀵정렬($nlogn$), 병합정렬($nlogn$), 힙정렬($nlogn$)"
      ]
    },
    {
      "cell_type": "markdown",
      "id": "52e029f4",
      "metadata": {
        "id": "52e029f4"
      },
      "source": [
        "## 선택정렬\n",
        "1. 주어진 데이터중, 최소값을 찾음\n",
        "2. 해당 최소값을 데이터 맨 앞에 위치한 값과 교체함\n",
        "3. 맨 앞의 위치를 뺀 나머지 데이터를 동일한 방법으로 반복함"
      ]
    },
    {
      "cell_type": "markdown",
      "id": "901a5a4c",
      "metadata": {
        "id": "901a5a4c"
      },
      "source": [
        "## 버블정렬($O(n^2)$)"
      ]
    },
    {
      "cell_type": "code",
      "execution_count": null,
      "id": "c96a3e6d",
      "metadata": {
        "id": "c96a3e6d"
      },
      "outputs": [],
      "source": [
        "def bubbleSort(x):\n",
        "    length = len(x)-1\n",
        "    for i in range(length):\n",
        "        for j in range(length-i):\n",
        "            if x[j] > x[j+1]:\n",
        "                x[j], x[j+1] = x[j+1], x[j]\n",
        "    return x"
      ]
    },
    {
      "cell_type": "markdown",
      "id": "3e29c89a",
      "metadata": {
        "id": "3e29c89a"
      },
      "source": [
        "* 반복문이 두 개 O($n^2$)\n",
        "  - 최악의 경우, <font size=5em>$\\frac { n * (n - 1)}{ 2 }$</font>\n",
        "* 완전 정렬이 되어 있는 상태라면 최선은 O(n)"
      ]
    },
    {
      "cell_type": "markdown",
      "id": "86728b17",
      "metadata": {
        "id": "86728b17"
      },
      "source": [
        "## 삽입정렬\n",
        "* 삽입 정렬은 두 번째 인덱스부터 시작\n",
        "* 해당 인덱스(key 값) 앞에 있는 데이터(B)부터 비교해서 key 값이 더 작으면, B값을 뒤 인덱스로 복사\n",
        "* 이를 key 값이 더 큰 데이터를 만날때까지 반복, 그리고 큰 데이터를 만난 위치 바로 뒤에 key 값을 이동"
      ]
    },
    {
      "cell_type": "code",
      "execution_count": null,
      "id": "7eb3717c",
      "metadata": {
        "id": "7eb3717c"
      },
      "outputs": [],
      "source": [
        "def insert_sort(x):\n",
        "    for i in range(1, len(x)):\n",
        "        j = i - 1\n",
        "        key = x[i]\n",
        "        while x[j] > key and j >= 0:\n",
        "            x[j+1] = x[j]\n",
        "            j = j - 1\n",
        "        x[j+1] = key\n",
        "    return x"
      ]
    },
    {
      "cell_type": "markdown",
      "id": "0330c8bf",
      "metadata": {
        "id": "0330c8bf"
      },
      "source": [
        "## 퀵정렬"
      ]
    },
    {
      "cell_type": "code",
      "execution_count": null,
      "id": "d79e8856",
      "metadata": {
        "id": "d79e8856"
      },
      "outputs": [],
      "source": [
        "def quicksort(x):\n",
        "    if len(x) <= 1:\n",
        "        return x\n",
        "\n",
        "    pivot = x[len(x) // 2]\n",
        "    less = []\n",
        "    more = []\n",
        "    equal = []\n",
        "    for a in x:\n",
        "        if a < pivot:\n",
        "            less.append(a)\n",
        "        elif a > pivot:\n",
        "            more.append(a)\n",
        "        else:\n",
        "            equal.append(a)\n",
        "\n",
        "    return quicksort(less) + equal + quicksort(more)"
      ]
    },
    {
      "cell_type": "markdown",
      "id": "a49cf1ad",
      "metadata": {
        "id": "a49cf1ad"
      },
      "source": [
        "## 병합정렬"
      ]
    },
    {
      "cell_type": "code",
      "execution_count": null,
      "id": "7b6ec12e",
      "metadata": {
        "id": "7b6ec12e"
      },
      "outputs": [],
      "source": [
        "def mergeSort(myList):\n",
        "    if len(myList) > 1:\n",
        "        mid = len(myList) // 2\n",
        "        left = myList[:mid]\n",
        "        right = myList[mid:]\n",
        "\n",
        "        # Recursive call on each half\n",
        "        mergeSort(left)\n",
        "        mergeSort(right)\n",
        "\n",
        "        # Two iterators for traversing the two halves\n",
        "        i = 0\n",
        "        j = 0\n",
        "        \n",
        "        # Iterator for the main list\n",
        "        k = 0\n",
        "        \n",
        "        while i < len(left) and j < len(right):\n",
        "            if left[i] <= right[j]:\n",
        "              # The value from the left half has been used\n",
        "              myList[k] = left[i]\n",
        "              # Move the iterator forward\n",
        "              i += 1\n",
        "            else:\n",
        "                myList[k] = right[j]\n",
        "                j += 1\n",
        "            # Move to the next slot\n",
        "            k += 1\n",
        "\n",
        "        # For all the remaining values\n",
        "        while i < len(left):\n",
        "            myList[k] = left[i]\n",
        "            i += 1\n",
        "            k += 1\n",
        "\n",
        "        while j < len(right):\n",
        "            myList[k]=right[j]\n",
        "            j += 1\n",
        "            k += 1"
      ]
    },
    {
      "cell_type": "markdown",
      "id": "29a04875",
      "metadata": {
        "id": "29a04875"
      },
      "source": [
        "## 눈으로 보자~\n",
        "https://visualgo.net/en/sorting"
      ]
    },
    {
      "cell_type": "markdown",
      "id": "d48f3c8c",
      "metadata": {
        "id": "d48f3c8c"
      },
      "source": [
        "## 파이썬 정렬\n"
      ]
    },
    {
      "cell_type": "code",
      "execution_count": null,
      "id": "feeeed79",
      "metadata": {
        "id": "feeeed79",
        "outputId": "b127a30d-5802-4d20-d420-fb6ee6b1ed04"
      },
      "outputs": [
        {
          "data": {
            "text/plain": [
              "[1, 2, 3, 4, 5]"
            ]
          },
          "execution_count": 1,
          "metadata": {},
          "output_type": "execute_result"
        }
      ],
      "source": [
        "sorted([5, 2, 3, 1, 4])"
      ]
    },
    {
      "cell_type": "code",
      "execution_count": null,
      "id": "4cfb3825",
      "metadata": {
        "id": "4cfb3825",
        "outputId": "63ddf077-a5d7-43d9-c21c-61902e1b246d"
      },
      "outputs": [
        {
          "data": {
            "text/plain": [
              "[1, 2, 3, 4, 5]"
            ]
          },
          "execution_count": 2,
          "metadata": {},
          "output_type": "execute_result"
        }
      ],
      "source": [
        "a = [5, 2, 3, 1, 4]\n",
        "a.sort()\n",
        "a"
      ]
    },
    {
      "cell_type": "code",
      "execution_count": null,
      "id": "48e5f523",
      "metadata": {
        "id": "48e5f523",
        "outputId": "fa400f50-0004-4fcd-964c-9930cfa4b053"
      },
      "outputs": [
        {
          "data": {
            "text/plain": [
              "[1, 2, 3, 4, 5]"
            ]
          },
          "execution_count": 5,
          "metadata": {},
          "output_type": "execute_result"
        }
      ],
      "source": [
        "sorted({1: 'D', 2: 'B', 3: 'B', 4: 'E', 5: 'A'})"
      ]
    },
    {
      "cell_type": "code",
      "execution_count": null,
      "id": "91d4df86",
      "metadata": {
        "id": "91d4df86"
      },
      "outputs": [],
      "source": [
        "dict = {'a' : 'A', 'b' : 'B'}"
      ]
    },
    {
      "cell_type": "markdown",
      "id": "23da7fd5",
      "metadata": {
        "id": "23da7fd5"
      },
      "source": [
        "### sort()은 오직 리스트에서만 쓸수 있는 반면 sorted()함수는 어떤(Iterable)에서든 쓸 수 있다!"
      ]
    },
    {
      "cell_type": "code",
      "execution_count": null,
      "id": "5b578b95",
      "metadata": {
        "id": "5b578b95",
        "outputId": "a0a65789-8a56-4cb5-8715-7c0ba642cf46"
      },
      "outputs": [
        {
          "ename": "AttributeError",
          "evalue": "'dict' object has no attribute 'sort'",
          "output_type": "error",
          "traceback": [
            "\u001b[0;31m---------------------------------------------------------------------------\u001b[0m",
            "\u001b[0;31mAttributeError\u001b[0m                            Traceback (most recent call last)",
            "Input \u001b[0;32mIn [14]\u001b[0m, in \u001b[0;36m<cell line: 1>\u001b[0;34m()\u001b[0m\n\u001b[0;32m----> 1\u001b[0m \u001b[38;5;28;43mdict\u001b[39;49m\u001b[38;5;241;43m.\u001b[39;49m\u001b[43msort\u001b[49m()\n",
            "\u001b[0;31mAttributeError\u001b[0m: 'dict' object has no attribute 'sort'"
          ]
        }
      ],
      "source": [
        "dict.sort()"
      ]
    },
    {
      "cell_type": "code",
      "execution_count": null,
      "id": "8dae2ae6",
      "metadata": {
        "id": "8dae2ae6",
        "outputId": "2f909c26-fe4d-4c86-9756-8aa718b1e9c2"
      },
      "outputs": [
        {
          "data": {
            "text/plain": [
              "['a', 'b']"
            ]
          },
          "execution_count": 16,
          "metadata": {},
          "output_type": "execute_result"
        }
      ],
      "source": [
        "sorted(dict)"
      ]
    },
    {
      "cell_type": "markdown",
      "id": "205b97b2",
      "metadata": {
        "id": "205b97b2"
      },
      "source": [
        "### Key Functions"
      ]
    },
    {
      "cell_type": "code",
      "execution_count": null,
      "id": "91d2f38b",
      "metadata": {
        "id": "91d2f38b",
        "outputId": "ed3136f8-eee6-4bec-bbb5-f3a9dff33399"
      },
      "outputs": [
        {
          "data": {
            "text/plain": [
              "['a', 'Andrew', 'from', 'is', 'string', 'test', 'This']"
            ]
          },
          "execution_count": 52,
          "metadata": {},
          "output_type": "execute_result"
        }
      ],
      "source": [
        "sorted(\"This is a test string from Andrew\".split(), key=str.lower)"
      ]
    },
    {
      "cell_type": "code",
      "execution_count": null,
      "id": "b78b6eaa",
      "metadata": {
        "id": "b78b6eaa",
        "outputId": "a6f8a752-a746-4a6d-c523-ebec82ff1106"
      },
      "outputs": [
        {
          "data": {
            "text/plain": [
              "['a', 'is', 'This', 'test', 'from', 'string', 'Andrew']"
            ]
          },
          "execution_count": 53,
          "metadata": {},
          "output_type": "execute_result"
        }
      ],
      "source": [
        "sorted(\"This is a test string from Andrew\".split(), key=len)"
      ]
    },
    {
      "cell_type": "code",
      "execution_count": null,
      "id": "cad98268",
      "metadata": {
        "id": "cad98268",
        "outputId": "bf54f05f-a1d2-4ebf-9a4d-04cf7bda012c"
      },
      "outputs": [
        {
          "data": {
            "text/plain": [
              "[('dave', 'B', 10), ('jane', 'B', 12), ('john', 'A', 15)]"
            ]
          },
          "execution_count": 19,
          "metadata": {},
          "output_type": "execute_result"
        }
      ],
      "source": [
        "student_tuples = [\n",
        "...     ('john', 'A', 15),\n",
        "...     ('jane', 'B', 12),\n",
        "...     ('dave', 'B', 10),\n",
        "]\n",
        "\n",
        "sorted(student_tuples, key=lambda student: student[2])"
      ]
    },
    {
      "cell_type": "markdown",
      "id": "196af7da",
      "metadata": {
        "id": "196af7da"
      },
      "source": [
        "- student[2]인 숫자를 기준으로 정렬"
      ]
    },
    {
      "cell_type": "code",
      "execution_count": null,
      "id": "dd769a2d",
      "metadata": {
        "id": "dd769a2d"
      },
      "outputs": [],
      "source": [
        "class Student:\n",
        "    def __init__(self, name, grade, age):\n",
        "        self.name = name\n",
        "        self.grade = grade\n",
        "        self.age = age\n",
        "    def __repr__(self):\n",
        "        return repr((self.name, self.grade, self.age))"
      ]
    },
    {
      "cell_type": "code",
      "execution_count": null,
      "id": "e8143b70",
      "metadata": {
        "id": "e8143b70",
        "outputId": "593c9659-47af-4712-dc77-ef7b9e09a0c9"
      },
      "outputs": [
        {
          "data": {
            "text/plain": [
              "[('dave', 'B', 10), ('jane', 'B', 12), ('john', 'A', 15)]"
            ]
          },
          "execution_count": 34,
          "metadata": {},
          "output_type": "execute_result"
        }
      ],
      "source": [
        "student_objects = [\n",
        "    Student('john', 'A', 15),\n",
        "    Student('jane', 'B', 12),\n",
        "    Student('dave', 'B', 10),\n",
        "]\n",
        "\n",
        "sorted(student_objects, key=lambda student: student.age)"
      ]
    },
    {
      "cell_type": "code",
      "execution_count": null,
      "id": "d5c51425",
      "metadata": {
        "id": "d5c51425",
        "outputId": "b2fceb56-fcd7-4b9a-8dc6-f7be9114f14e"
      },
      "outputs": [
        {
          "data": {
            "text/plain": [
              "[('dave', 'B', 10), ('jane', 'B', 12), ('john', 'A', 15)]"
            ]
          },
          "execution_count": 36,
          "metadata": {},
          "output_type": "execute_result"
        }
      ],
      "source": [
        "sorted(student_tuples, key = lambda x : x[2])"
      ]
    },
    {
      "cell_type": "code",
      "execution_count": null,
      "id": "5b793c52",
      "metadata": {
        "id": "5b793c52",
        "outputId": "f36638f1-f616-493d-c87b-19ac5a35f2c1"
      },
      "outputs": [
        {
          "data": {
            "text/plain": [
              "[('john', 'A', 15), ('dave', 'B', 10), ('jane', 'B', 12)]"
            ]
          },
          "execution_count": 44,
          "metadata": {},
          "output_type": "execute_result"
        }
      ],
      "source": [
        "sorted(student_tuples, key = lambda x: (x[1], x[2]))"
      ]
    },
    {
      "cell_type": "code",
      "execution_count": null,
      "id": "5f81b709",
      "metadata": {
        "id": "5f81b709",
        "outputId": "a172322c-649f-4358-eb69-196d785f34d5"
      },
      "outputs": [
        {
          "data": {
            "text/plain": [
              "[('john', 'A', 15), ('jane', 'B', 12), ('dave', 'B', 10)]"
            ]
          },
          "execution_count": 48,
          "metadata": {},
          "output_type": "execute_result"
        }
      ],
      "source": [
        "sorted(student_tuples, key = lambda x: (x[1], -x[2]))"
      ]
    },
    {
      "cell_type": "markdown",
      "id": "a99ef0f7",
      "metadata": {
        "id": "a99ef0f7"
      },
      "source": [
        "#### 정렬하려는 대상이 숫자일 경우 ' - ' 를 통해 reverse와 같은 효과를 낼 수 있다"
      ]
    },
    {
      "cell_type": "markdown",
      "id": "9d602604",
      "metadata": {
        "id": "9d602604"
      },
      "source": [
        "### Operator Module Functions\n",
        "파이썬 내장함수를 이용하여 원하는 원소를 기준으로 정렬할 수 있다. "
      ]
    },
    {
      "cell_type": "code",
      "execution_count": null,
      "id": "4195b4bf",
      "metadata": {
        "id": "4195b4bf"
      },
      "outputs": [],
      "source": [
        "from operator import itemgetter, attrgetter"
      ]
    },
    {
      "cell_type": "code",
      "execution_count": null,
      "id": "6f74c21b",
      "metadata": {
        "id": "6f74c21b",
        "outputId": "6ba2ae92-8491-44a7-f61e-0a46dd6c1284"
      },
      "outputs": [
        {
          "data": {
            "text/plain": [
              "[('dave', 'B', 10), ('jane', 'B', 12), ('john', 'A', 15)]"
            ]
          },
          "execution_count": 38,
          "metadata": {},
          "output_type": "execute_result"
        }
      ],
      "source": [
        "sorted(student_tuples, key=itemgetter(2))"
      ]
    },
    {
      "cell_type": "code",
      "execution_count": null,
      "id": "2ac4beb7",
      "metadata": {
        "id": "2ac4beb7",
        "outputId": "afcadbe2-8e4b-4096-ddf5-f248a743cfaf"
      },
      "outputs": [
        {
          "data": {
            "text/plain": [
              "[('dave', 'B', 10), ('jane', 'B', 12), ('john', 'A', 15)]"
            ]
          },
          "execution_count": 39,
          "metadata": {},
          "output_type": "execute_result"
        }
      ],
      "source": [
        "sorted(student_objects, key=attrgetter('age'))"
      ]
    },
    {
      "cell_type": "code",
      "execution_count": null,
      "id": "0985bd44",
      "metadata": {
        "id": "0985bd44",
        "outputId": "6a21e26f-ac7b-4962-eafb-6bc42d622a5a"
      },
      "outputs": [
        {
          "data": {
            "text/plain": [
              "[('john', 'A', 15), ('dave', 'B', 10), ('jane', 'B', 12)]"
            ]
          },
          "execution_count": 40,
          "metadata": {},
          "output_type": "execute_result"
        }
      ],
      "source": [
        "sorted(student_tuples, key=itemgetter(1, 2))"
      ]
    },
    {
      "cell_type": "code",
      "execution_count": null,
      "id": "bc51515e",
      "metadata": {
        "id": "bc51515e",
        "outputId": "5843c71e-c810-44ae-c3ec-1e57c6d8769b"
      },
      "outputs": [
        {
          "data": {
            "text/plain": [
              "[('john', 'A', 15), ('dave', 'B', 10), ('jane', 'B', 12)]"
            ]
          },
          "execution_count": 41,
          "metadata": {},
          "output_type": "execute_result"
        }
      ],
      "source": [
        "sorted(student_objects, key=attrgetter('grade', 'age'))"
      ]
    },
    {
      "cell_type": "markdown",
      "id": "fe2c6b32",
      "metadata": {
        "id": "fe2c6b32"
      },
      "source": [
        "### Ascending and Descending\n",
        "- sort()와 sorted()는 모두 boolean값을 갖는 reverse 옵션을 갖고 있다. Default 값은 False로 오름차순이다!"
      ]
    },
    {
      "cell_type": "code",
      "execution_count": null,
      "id": "241ff94a",
      "metadata": {
        "id": "241ff94a",
        "outputId": "6a6d2a97-9f37-4aa6-f8a5-bfc071ca8a4b"
      },
      "outputs": [
        {
          "data": {
            "text/plain": [
              "[('john', 'A', 15), ('jane', 'B', 12), ('dave', 'B', 10)]"
            ]
          },
          "execution_count": 42,
          "metadata": {},
          "output_type": "execute_result"
        }
      ],
      "source": [
        "sorted(student_tuples, key=itemgetter(2), reverse=True)"
      ]
    },
    {
      "cell_type": "code",
      "execution_count": null,
      "id": "d51ede5a",
      "metadata": {
        "id": "d51ede5a",
        "outputId": "7b173304-5d9b-4f04-ee73-a3a61645ed2b"
      },
      "outputs": [
        {
          "data": {
            "text/plain": [
              "[('john', 'A', 15), ('jane', 'B', 12), ('dave', 'B', 10)]"
            ]
          },
          "execution_count": 43,
          "metadata": {},
          "output_type": "execute_result"
        }
      ],
      "source": [
        "sorted(student_objects, key=attrgetter('age'), reverse=True)"
      ]
    },
    {
      "cell_type": "code",
      "execution_count": null,
      "id": "a4c458df",
      "metadata": {
        "id": "a4c458df"
      },
      "outputs": [],
      "source": [
        ""
      ]
    }
  ],
  "metadata": {
    "kernelspec": {
      "display_name": "Python 3 (ipykernel)",
      "language": "python",
      "name": "python3"
    },
    "language_info": {
      "codemirror_mode": {
        "name": "ipython",
        "version": 3
      },
      "file_extension": ".py",
      "mimetype": "text/x-python",
      "name": "python",
      "nbconvert_exporter": "python",
      "pygments_lexer": "ipython3",
      "version": "3.8.13"
    },
    "colab": {
      "name": "0603정렬.ipynb",
      "provenance": [],
      "collapsed_sections": []
    }
  },
  "nbformat": 4,
  "nbformat_minor": 5
}
