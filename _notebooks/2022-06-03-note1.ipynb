{
 "cells": [
  {
   "cell_type": "markdown",
   "id": "5bdaa9f2",
   "metadata": {},
   "source": [
    "# 정렬"
   ]
  },
  {
   "cell_type": "markdown",
   "id": "3aafa636",
   "metadata": {},
   "source": [
    "- 정렬 알고리즘은 커"
   ]
  },
  {
   "cell_type": "markdown",
   "id": "bdeed460",
   "metadata": {},
   "source": [
    "버블정렬($n^2$), 삽입정렬($n^2$), 선택정렬($n^2$)"
   ]
  },
  {
   "cell_type": "markdown",
   "id": "f8cd81c8",
   "metadata": {},
   "source": [
    "퀵정렬($nlogn$), 병합정렬($nlogn$), 힙정렬($nlogn$)"
   ]
  },
  {
   "cell_type": "markdown",
   "id": "52e029f4",
   "metadata": {},
   "source": [
    "## 선택정렬\n",
    "1. 주어진 데이터중, 최소값을 찾음\n",
    "2. 해당 최소값을 데이터 맨 앞에 위치한 값과 교체함\n",
    "3. 맨 앞의 위치를 뺀 나머지 데이터를 동일한 방법으로 반복함"
   ]
  },
  {
   "cell_type": "markdown",
   "id": "7c884934",
   "metadata": {},
   "source": [
    "<img src=\"https://upload.wikimedia.org/wikipedia/commons/9/94/Selection-Sort-Animation.gif\" width=100>"
   ]
  },
  {
   "cell_type": "markdown",
   "id": "901a5a4c",
   "metadata": {},
   "source": [
    "## 버블정렬($O(n^2)$)"
   ]
  },
  {
   "cell_type": "markdown",
   "id": "33b6da24",
   "metadata": {},
   "source": [
    "<img src=\"https://upload.wikimedia.org/wikipedia/commons/3/37/Bubble_sort_animation.gif\" \n",
    "width=300>"
   ]
  },
  {
   "cell_type": "markdown",
   "id": "d4a1cc54",
   "metadata": {},
   "source": [
    "<img src=\"https://www.fun-coding.org/00_Images/bubblealgo.png\" />"
   ]
  },
  {
   "cell_type": "code",
   "execution_count": 63,
   "id": "c96a3e6d",
   "metadata": {},
   "outputs": [],
   "source": [
    "def bubbleSort(x):\n",
    "    length = len(x)-1\n",
    "    for i in range(length):\n",
    "        for j in range(length-i):\n",
    "            if x[j] > x[j+1]:\n",
    "                x[j], x[j+1] = x[j+1], x[j]\n",
    "    return x"
   ]
  },
  {
   "cell_type": "markdown",
   "id": "3e29c89a",
   "metadata": {},
   "source": [
    "* 반복문이 두 개 O($n^2$)\n",
    "  - 최악의 경우, <font size=5em>$\\frac { n * (n - 1)}{ 2 }$</font>\n",
    "* 완전 정렬이 되어 있는 상태라면 최선은 O(n)"
   ]
  },
  {
   "cell_type": "markdown",
   "id": "86728b17",
   "metadata": {},
   "source": [
    "## 삽입정렬\n",
    "* 삽입 정렬은 두 번째 인덱스부터 시작\n",
    "* 해당 인덱스(key 값) 앞에 있는 데이터(B)부터 비교해서 key 값이 더 작으면, B값을 뒤 인덱스로 복사\n",
    "* 이를 key 값이 더 큰 데이터를 만날때까지 반복, 그리고 큰 데이터를 만난 위치 바로 뒤에 key 값을 이동"
   ]
  },
  {
   "cell_type": "markdown",
   "id": "6d1dc04b",
   "metadata": {},
   "source": [
    "<img src='https://upload.wikimedia.org/wikipedia/commons/2/25/Insertion_sort_animation.gif'\n",
    "     width=300>"
   ]
  },
  {
   "cell_type": "markdown",
   "id": "f8a499a8",
   "metadata": {},
   "source": [
    "<img src=\"https://upload.wikimedia.org/wikipedia/commons/e/ea/Insertion_sort_001.PNG\">"
   ]
  },
  {
   "cell_type": "code",
   "execution_count": 60,
   "id": "7eb3717c",
   "metadata": {},
   "outputs": [],
   "source": [
    "def insert_sort(x):\n",
    "    for i in range(1, len(x)):\n",
    "        j = i - 1\n",
    "        key = x[i]\n",
    "        while x[j] > key and j >= 0:\n",
    "            x[j+1] = x[j]\n",
    "            j = j - 1\n",
    "        x[j+1] = key\n",
    "    return x"
   ]
  },
  {
   "cell_type": "markdown",
   "id": "0330c8bf",
   "metadata": {},
   "source": [
    "## 퀵정렬"
   ]
  },
  {
   "cell_type": "markdown",
   "id": "f3505ce5",
   "metadata": {},
   "source": [
    "<img src = \"https://upload.wikimedia.org/wikipedia/commons/6/6a/Sorting_quicksort_anim.gif\"\n",
    "     width = 400>"
   ]
  },
  {
   "cell_type": "code",
   "execution_count": 61,
   "id": "d79e8856",
   "metadata": {},
   "outputs": [],
   "source": [
    "def quicksort(x):\n",
    "    if len(x) <= 1:\n",
    "        return x\n",
    "\n",
    "    pivot = x[len(x) // 2]\n",
    "    less = []\n",
    "    more = []\n",
    "    equal = []\n",
    "    for a in x:\n",
    "        if a < pivot:\n",
    "            less.append(a)\n",
    "        elif a > pivot:\n",
    "            more.append(a)\n",
    "        else:\n",
    "            equal.append(a)\n",
    "\n",
    "    return quicksort(less) + equal + quicksort(more)"
   ]
  },
  {
   "cell_type": "markdown",
   "id": "a49cf1ad",
   "metadata": {},
   "source": [
    "## 병합정렬"
   ]
  },
  {
   "cell_type": "markdown",
   "id": "a79fd033",
   "metadata": {},
   "source": [
    "<img src = \"https://upload.wikimedia.org/wikipedia/commons/c/cc/Merge-sort-example-300px.gif\"\n",
    "     width = 400>"
   ]
  },
  {
   "cell_type": "code",
   "execution_count": 64,
   "id": "7b6ec12e",
   "metadata": {},
   "outputs": [],
   "source": [
    "def mergeSort(myList):\n",
    "    if len(myList) > 1:\n",
    "        mid = len(myList) // 2\n",
    "        left = myList[:mid]\n",
    "        right = myList[mid:]\n",
    "\n",
    "        # Recursive call on each half\n",
    "        mergeSort(left)\n",
    "        mergeSort(right)\n",
    "\n",
    "        # Two iterators for traversing the two halves\n",
    "        i = 0\n",
    "        j = 0\n",
    "        \n",
    "        # Iterator for the main list\n",
    "        k = 0\n",
    "        \n",
    "        while i < len(left) and j < len(right):\n",
    "            if left[i] <= right[j]:\n",
    "              # The value from the left half has been used\n",
    "              myList[k] = left[i]\n",
    "              # Move the iterator forward\n",
    "              i += 1\n",
    "            else:\n",
    "                myList[k] = right[j]\n",
    "                j += 1\n",
    "            # Move to the next slot\n",
    "            k += 1\n",
    "\n",
    "        # For all the remaining values\n",
    "        while i < len(left):\n",
    "            myList[k] = left[i]\n",
    "            i += 1\n",
    "            k += 1\n",
    "\n",
    "        while j < len(right):\n",
    "            myList[k]=right[j]\n",
    "            j += 1\n",
    "            k += 1"
   ]
  },
  {
   "cell_type": "markdown",
   "id": "29a04875",
   "metadata": {},
   "source": [
    "## 눈으로 보자~\n",
    "https://visualgo.net/en/sorting"
   ]
  },
  {
   "cell_type": "markdown",
   "id": "d48f3c8c",
   "metadata": {},
   "source": [
    "## 파이썬 정렬\n"
   ]
  },
  {
   "cell_type": "code",
   "execution_count": 1,
   "id": "feeeed79",
   "metadata": {},
   "outputs": [
    {
     "data": {
      "text/plain": [
       "[1, 2, 3, 4, 5]"
      ]
     },
     "execution_count": 1,
     "metadata": {},
     "output_type": "execute_result"
    }
   ],
   "source": [
    "sorted([5, 2, 3, 1, 4])"
   ]
  },
  {
   "cell_type": "code",
   "execution_count": 2,
   "id": "4cfb3825",
   "metadata": {},
   "outputs": [
    {
     "data": {
      "text/plain": [
       "[1, 2, 3, 4, 5]"
      ]
     },
     "execution_count": 2,
     "metadata": {},
     "output_type": "execute_result"
    }
   ],
   "source": [
    "a = [5, 2, 3, 1, 4]\n",
    "a.sort()\n",
    "a"
   ]
  },
  {
   "cell_type": "code",
   "execution_count": 5,
   "id": "48e5f523",
   "metadata": {},
   "outputs": [
    {
     "data": {
      "text/plain": [
       "[1, 2, 3, 4, 5]"
      ]
     },
     "execution_count": 5,
     "metadata": {},
     "output_type": "execute_result"
    }
   ],
   "source": [
    "sorted({1: 'D', 2: 'B', 3: 'B', 4: 'E', 5: 'A'})"
   ]
  },
  {
   "cell_type": "code",
   "execution_count": 8,
   "id": "91d4df86",
   "metadata": {},
   "outputs": [],
   "source": [
    "dict = {'a' : 'A', 'b' : 'B'}"
   ]
  },
  {
   "cell_type": "markdown",
   "id": "23da7fd5",
   "metadata": {},
   "source": [
    "### sort()은 오직 리스트에서만 쓸수 있는 반면 sorted()함수는 어떤(Iterable)에서든 쓸 수 있다!"
   ]
  },
  {
   "cell_type": "code",
   "execution_count": 14,
   "id": "5b578b95",
   "metadata": {},
   "outputs": [
    {
     "ename": "AttributeError",
     "evalue": "'dict' object has no attribute 'sort'",
     "output_type": "error",
     "traceback": [
      "\u001b[0;31m---------------------------------------------------------------------------\u001b[0m",
      "\u001b[0;31mAttributeError\u001b[0m                            Traceback (most recent call last)",
      "Input \u001b[0;32mIn [14]\u001b[0m, in \u001b[0;36m<cell line: 1>\u001b[0;34m()\u001b[0m\n\u001b[0;32m----> 1\u001b[0m \u001b[38;5;28;43mdict\u001b[39;49m\u001b[38;5;241;43m.\u001b[39;49m\u001b[43msort\u001b[49m()\n",
      "\u001b[0;31mAttributeError\u001b[0m: 'dict' object has no attribute 'sort'"
     ]
    }
   ],
   "source": [
    "dict.sort()"
   ]
  },
  {
   "cell_type": "code",
   "execution_count": 16,
   "id": "8dae2ae6",
   "metadata": {},
   "outputs": [
    {
     "data": {
      "text/plain": [
       "['a', 'b']"
      ]
     },
     "execution_count": 16,
     "metadata": {},
     "output_type": "execute_result"
    }
   ],
   "source": [
    "sorted(dict)"
   ]
  },
  {
   "cell_type": "markdown",
   "id": "205b97b2",
   "metadata": {},
   "source": [
    "### Key Functions"
   ]
  },
  {
   "cell_type": "code",
   "execution_count": 52,
   "id": "91d2f38b",
   "metadata": {},
   "outputs": [
    {
     "data": {
      "text/plain": [
       "['a', 'Andrew', 'from', 'is', 'string', 'test', 'This']"
      ]
     },
     "execution_count": 52,
     "metadata": {},
     "output_type": "execute_result"
    }
   ],
   "source": [
    "sorted(\"This is a test string from Andrew\".split(), key=str.lower)"
   ]
  },
  {
   "cell_type": "code",
   "execution_count": 53,
   "id": "b78b6eaa",
   "metadata": {},
   "outputs": [
    {
     "data": {
      "text/plain": [
       "['a', 'is', 'This', 'test', 'from', 'string', 'Andrew']"
      ]
     },
     "execution_count": 53,
     "metadata": {},
     "output_type": "execute_result"
    }
   ],
   "source": [
    "sorted(\"This is a test string from Andrew\".split(), key=len)"
   ]
  },
  {
   "cell_type": "code",
   "execution_count": 19,
   "id": "cad98268",
   "metadata": {},
   "outputs": [
    {
     "data": {
      "text/plain": [
       "[('dave', 'B', 10), ('jane', 'B', 12), ('john', 'A', 15)]"
      ]
     },
     "execution_count": 19,
     "metadata": {},
     "output_type": "execute_result"
    }
   ],
   "source": [
    "student_tuples = [\n",
    "...     ('john', 'A', 15),\n",
    "...     ('jane', 'B', 12),\n",
    "...     ('dave', 'B', 10),\n",
    "]\n",
    "\n",
    "sorted(student_tuples, key=lambda student: student[2])"
   ]
  },
  {
   "cell_type": "markdown",
   "id": "196af7da",
   "metadata": {},
   "source": [
    "- student[2]인 숫자를 기준으로 정렬"
   ]
  },
  {
   "cell_type": "code",
   "execution_count": 31,
   "id": "dd769a2d",
   "metadata": {},
   "outputs": [],
   "source": [
    "class Student:\n",
    "    def __init__(self, name, grade, age):\n",
    "        self.name = name\n",
    "        self.grade = grade\n",
    "        self.age = age\n",
    "    def __repr__(self):\n",
    "        return repr((self.name, self.grade, self.age))"
   ]
  },
  {
   "cell_type": "code",
   "execution_count": 34,
   "id": "e8143b70",
   "metadata": {},
   "outputs": [
    {
     "data": {
      "text/plain": [
       "[('dave', 'B', 10), ('jane', 'B', 12), ('john', 'A', 15)]"
      ]
     },
     "execution_count": 34,
     "metadata": {},
     "output_type": "execute_result"
    }
   ],
   "source": [
    "student_objects = [\n",
    "    Student('john', 'A', 15),\n",
    "    Student('jane', 'B', 12),\n",
    "    Student('dave', 'B', 10),\n",
    "]\n",
    "\n",
    "sorted(student_objects, key=lambda student: student.age)"
   ]
  },
  {
   "cell_type": "code",
   "execution_count": 36,
   "id": "d5c51425",
   "metadata": {},
   "outputs": [
    {
     "data": {
      "text/plain": [
       "[('dave', 'B', 10), ('jane', 'B', 12), ('john', 'A', 15)]"
      ]
     },
     "execution_count": 36,
     "metadata": {},
     "output_type": "execute_result"
    }
   ],
   "source": [
    "sorted(student_tuples, key = lambda x : x[2])"
   ]
  },
  {
   "cell_type": "code",
   "execution_count": 44,
   "id": "5b793c52",
   "metadata": {},
   "outputs": [
    {
     "data": {
      "text/plain": [
       "[('john', 'A', 15), ('dave', 'B', 10), ('jane', 'B', 12)]"
      ]
     },
     "execution_count": 44,
     "metadata": {},
     "output_type": "execute_result"
    }
   ],
   "source": [
    "sorted(student_tuples, key = lambda x: (x[1], x[2]))"
   ]
  },
  {
   "cell_type": "code",
   "execution_count": 48,
   "id": "5f81b709",
   "metadata": {},
   "outputs": [
    {
     "data": {
      "text/plain": [
       "[('john', 'A', 15), ('jane', 'B', 12), ('dave', 'B', 10)]"
      ]
     },
     "execution_count": 48,
     "metadata": {},
     "output_type": "execute_result"
    }
   ],
   "source": [
    "sorted(student_tuples, key = lambda x: (x[1], -x[2]))"
   ]
  },
  {
   "cell_type": "markdown",
   "id": "a99ef0f7",
   "metadata": {},
   "source": [
    "#### 정렬하려는 대상이 숫자일 경우 ' - ' 를 통해 reverse와 같은 효과를 낼 수 있다"
   ]
  },
  {
   "cell_type": "markdown",
   "id": "9d602604",
   "metadata": {},
   "source": [
    "### Operator Module Functions\n",
    "파이썬 내장함수를 이용하여 원하는 원소를 기준으로 정렬할 수 있다. "
   ]
  },
  {
   "cell_type": "code",
   "execution_count": 21,
   "id": "4195b4bf",
   "metadata": {},
   "outputs": [],
   "source": [
    "from operator import itemgetter, attrgetter"
   ]
  },
  {
   "cell_type": "code",
   "execution_count": 38,
   "id": "6f74c21b",
   "metadata": {},
   "outputs": [
    {
     "data": {
      "text/plain": [
       "[('dave', 'B', 10), ('jane', 'B', 12), ('john', 'A', 15)]"
      ]
     },
     "execution_count": 38,
     "metadata": {},
     "output_type": "execute_result"
    }
   ],
   "source": [
    "sorted(student_tuples, key=itemgetter(2))"
   ]
  },
  {
   "cell_type": "code",
   "execution_count": 39,
   "id": "2ac4beb7",
   "metadata": {},
   "outputs": [
    {
     "data": {
      "text/plain": [
       "[('dave', 'B', 10), ('jane', 'B', 12), ('john', 'A', 15)]"
      ]
     },
     "execution_count": 39,
     "metadata": {},
     "output_type": "execute_result"
    }
   ],
   "source": [
    "sorted(student_objects, key=attrgetter('age'))"
   ]
  },
  {
   "cell_type": "code",
   "execution_count": 40,
   "id": "0985bd44",
   "metadata": {},
   "outputs": [
    {
     "data": {
      "text/plain": [
       "[('john', 'A', 15), ('dave', 'B', 10), ('jane', 'B', 12)]"
      ]
     },
     "execution_count": 40,
     "metadata": {},
     "output_type": "execute_result"
    }
   ],
   "source": [
    "sorted(student_tuples, key=itemgetter(1, 2))"
   ]
  },
  {
   "cell_type": "code",
   "execution_count": 41,
   "id": "bc51515e",
   "metadata": {},
   "outputs": [
    {
     "data": {
      "text/plain": [
       "[('john', 'A', 15), ('dave', 'B', 10), ('jane', 'B', 12)]"
      ]
     },
     "execution_count": 41,
     "metadata": {},
     "output_type": "execute_result"
    }
   ],
   "source": [
    "sorted(student_objects, key=attrgetter('grade', 'age'))"
   ]
  },
  {
   "cell_type": "markdown",
   "id": "fe2c6b32",
   "metadata": {},
   "source": [
    "### Ascending and Descending\n",
    "- sort()와 sorted()는 모두 boolean값을 갖는 reverse 옵션을 갖고 있다. Default 값은 False로 오름차순이다!"
   ]
  },
  {
   "cell_type": "code",
   "execution_count": 42,
   "id": "241ff94a",
   "metadata": {},
   "outputs": [
    {
     "data": {
      "text/plain": [
       "[('john', 'A', 15), ('jane', 'B', 12), ('dave', 'B', 10)]"
      ]
     },
     "execution_count": 42,
     "metadata": {},
     "output_type": "execute_result"
    }
   ],
   "source": [
    "sorted(student_tuples, key=itemgetter(2), reverse=True)"
   ]
  },
  {
   "cell_type": "code",
   "execution_count": 43,
   "id": "d51ede5a",
   "metadata": {},
   "outputs": [
    {
     "data": {
      "text/plain": [
       "[('john', 'A', 15), ('jane', 'B', 12), ('dave', 'B', 10)]"
      ]
     },
     "execution_count": 43,
     "metadata": {},
     "output_type": "execute_result"
    }
   ],
   "source": [
    "sorted(student_objects, key=attrgetter('age'), reverse=True)"
   ]
  },
  {
   "cell_type": "code",
   "execution_count": null,
   "id": "a4c458df",
   "metadata": {},
   "outputs": [],
   "source": []
  }
 ],
 "metadata": {
  "kernelspec": {
   "display_name": "Python 3 (ipykernel)",
   "language": "python",
   "name": "python3"
  },
  "language_info": {
   "codemirror_mode": {
    "name": "ipython",
    "version": 3
   },
   "file_extension": ".py",
   "mimetype": "text/x-python",
   "name": "python",
   "nbconvert_exporter": "python",
   "pygments_lexer": "ipython3",
   "version": "3.8.13"
  }
 },
 "nbformat": 4,
 "nbformat_minor": 5
}
